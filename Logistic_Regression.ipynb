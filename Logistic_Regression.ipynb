{
  "nbformat": 4,
  "nbformat_minor": 0,
  "metadata": {
    "colab": {
      "name": "Logistic Regression.ipynb",
      "provenance": []
    },
    "kernelspec": {
      "name": "python3",
      "display_name": "Python 3"
    },
    "language_info": {
      "name": "python"
    }
  },
  "cells": [
    {
      "cell_type": "code",
      "metadata": {
        "id": "ytbghsKtmPru"
      },
      "source": [
        "import pandas as pd\n",
        "import numpy as np\n",
        "import matplotlib.pyplot as plt\n",
        "import os\n",
        "import zipfile\n",
        "import random\n",
        "from sklearn.preprocessing import LabelEncoder, StandardScaler"
      ],
      "execution_count": 1,
      "outputs": []
    },
    {
      "cell_type": "code",
      "metadata": {
        "id": "uPiVK24d_AC7"
      },
      "source": [
        "zip_file = zipfile.ZipFile('logistic_regression.zip')\n",
        "zip_file.extractall()\n",
        "zip_file.close()"
      ],
      "execution_count": 2,
      "outputs": []
    },
    {
      "cell_type": "code",
      "metadata": {
        "id": "5USa8SAVAF0r"
      },
      "source": [
        "dataset = pd.read_csv(\"Social_Network_Ads.csv\")"
      ],
      "execution_count": 3,
      "outputs": []
    },
    {
      "cell_type": "code",
      "metadata": {
        "colab": {
          "base_uri": "https://localhost:8080/",
          "height": 204
        },
        "id": "E_JmpUtQAaQE",
        "outputId": "854f659a-33a8-45bb-fa69-8575de0e6e57"
      },
      "source": [
        "dataset.head()"
      ],
      "execution_count": 4,
      "outputs": [
        {
          "output_type": "execute_result",
          "data": {
            "text/html": [
              "<div>\n",
              "<style scoped>\n",
              "    .dataframe tbody tr th:only-of-type {\n",
              "        vertical-align: middle;\n",
              "    }\n",
              "\n",
              "    .dataframe tbody tr th {\n",
              "        vertical-align: top;\n",
              "    }\n",
              "\n",
              "    .dataframe thead th {\n",
              "        text-align: right;\n",
              "    }\n",
              "</style>\n",
              "<table border=\"1\" class=\"dataframe\">\n",
              "  <thead>\n",
              "    <tr style=\"text-align: right;\">\n",
              "      <th></th>\n",
              "      <th>User ID</th>\n",
              "      <th>Gender</th>\n",
              "      <th>Age</th>\n",
              "      <th>EstimatedSalary</th>\n",
              "      <th>Purchased</th>\n",
              "    </tr>\n",
              "  </thead>\n",
              "  <tbody>\n",
              "    <tr>\n",
              "      <th>0</th>\n",
              "      <td>15624510</td>\n",
              "      <td>Male</td>\n",
              "      <td>19</td>\n",
              "      <td>19000</td>\n",
              "      <td>0</td>\n",
              "    </tr>\n",
              "    <tr>\n",
              "      <th>1</th>\n",
              "      <td>15810944</td>\n",
              "      <td>Male</td>\n",
              "      <td>35</td>\n",
              "      <td>20000</td>\n",
              "      <td>0</td>\n",
              "    </tr>\n",
              "    <tr>\n",
              "      <th>2</th>\n",
              "      <td>15668575</td>\n",
              "      <td>Female</td>\n",
              "      <td>26</td>\n",
              "      <td>43000</td>\n",
              "      <td>0</td>\n",
              "    </tr>\n",
              "    <tr>\n",
              "      <th>3</th>\n",
              "      <td>15603246</td>\n",
              "      <td>Female</td>\n",
              "      <td>27</td>\n",
              "      <td>57000</td>\n",
              "      <td>0</td>\n",
              "    </tr>\n",
              "    <tr>\n",
              "      <th>4</th>\n",
              "      <td>15804002</td>\n",
              "      <td>Male</td>\n",
              "      <td>19</td>\n",
              "      <td>76000</td>\n",
              "      <td>0</td>\n",
              "    </tr>\n",
              "  </tbody>\n",
              "</table>\n",
              "</div>"
            ],
            "text/plain": [
              "    User ID  Gender  Age  EstimatedSalary  Purchased\n",
              "0  15624510    Male   19            19000          0\n",
              "1  15810944    Male   35            20000          0\n",
              "2  15668575  Female   26            43000          0\n",
              "3  15603246  Female   27            57000          0\n",
              "4  15804002    Male   19            76000          0"
            ]
          },
          "metadata": {
            "tags": []
          },
          "execution_count": 4
        }
      ]
    },
    {
      "cell_type": "code",
      "metadata": {
        "id": "6LJ8Gx2BCOaI"
      },
      "source": [
        "le = LabelEncoder()\n",
        "le.fit(list(set(dataset['Gender'])))\n",
        "dataset['Gender'] = le.transform(dataset['Gender'])\n",
        "dataset.drop(['User ID'], axis = 1, inplace = True)"
      ],
      "execution_count": 5,
      "outputs": []
    },
    {
      "cell_type": "code",
      "metadata": {
        "colab": {
          "base_uri": "https://localhost:8080/",
          "height": 204
        },
        "id": "evfjAxgHCOe5",
        "outputId": "2c820b65-481d-4135-98d7-eb545141d121"
      },
      "source": [
        "dataset.head()"
      ],
      "execution_count": 6,
      "outputs": [
        {
          "output_type": "execute_result",
          "data": {
            "text/html": [
              "<div>\n",
              "<style scoped>\n",
              "    .dataframe tbody tr th:only-of-type {\n",
              "        vertical-align: middle;\n",
              "    }\n",
              "\n",
              "    .dataframe tbody tr th {\n",
              "        vertical-align: top;\n",
              "    }\n",
              "\n",
              "    .dataframe thead th {\n",
              "        text-align: right;\n",
              "    }\n",
              "</style>\n",
              "<table border=\"1\" class=\"dataframe\">\n",
              "  <thead>\n",
              "    <tr style=\"text-align: right;\">\n",
              "      <th></th>\n",
              "      <th>Gender</th>\n",
              "      <th>Age</th>\n",
              "      <th>EstimatedSalary</th>\n",
              "      <th>Purchased</th>\n",
              "    </tr>\n",
              "  </thead>\n",
              "  <tbody>\n",
              "    <tr>\n",
              "      <th>0</th>\n",
              "      <td>1</td>\n",
              "      <td>19</td>\n",
              "      <td>19000</td>\n",
              "      <td>0</td>\n",
              "    </tr>\n",
              "    <tr>\n",
              "      <th>1</th>\n",
              "      <td>1</td>\n",
              "      <td>35</td>\n",
              "      <td>20000</td>\n",
              "      <td>0</td>\n",
              "    </tr>\n",
              "    <tr>\n",
              "      <th>2</th>\n",
              "      <td>0</td>\n",
              "      <td>26</td>\n",
              "      <td>43000</td>\n",
              "      <td>0</td>\n",
              "    </tr>\n",
              "    <tr>\n",
              "      <th>3</th>\n",
              "      <td>0</td>\n",
              "      <td>27</td>\n",
              "      <td>57000</td>\n",
              "      <td>0</td>\n",
              "    </tr>\n",
              "    <tr>\n",
              "      <th>4</th>\n",
              "      <td>1</td>\n",
              "      <td>19</td>\n",
              "      <td>76000</td>\n",
              "      <td>0</td>\n",
              "    </tr>\n",
              "  </tbody>\n",
              "</table>\n",
              "</div>"
            ],
            "text/plain": [
              "   Gender  Age  EstimatedSalary  Purchased\n",
              "0       1   19            19000          0\n",
              "1       1   35            20000          0\n",
              "2       0   26            43000          0\n",
              "3       0   27            57000          0\n",
              "4       1   19            76000          0"
            ]
          },
          "metadata": {
            "tags": []
          },
          "execution_count": 6
        }
      ]
    },
    {
      "cell_type": "code",
      "metadata": {
        "id": "VDkw_BHuAmeP"
      },
      "source": [
        "random.seed(42)\n",
        "train_set_index = np.array(random.sample(range(len(dataset)),int(len(dataset)*0.75)))\n",
        "test_set_index = np.setdiff1d(range(len(dataset)),train_set_index)"
      ],
      "execution_count": 7,
      "outputs": []
    },
    {
      "cell_type": "code",
      "metadata": {
        "id": "vJsV94nCEBK1"
      },
      "source": [
        "train_data = dataset.iloc[train_set_index]\n",
        "test_data = dataset.iloc[test_set_index]"
      ],
      "execution_count": 8,
      "outputs": []
    },
    {
      "cell_type": "code",
      "metadata": {
        "id": "EyiVJIl2EBOt"
      },
      "source": [
        "X_train = train_data.iloc[:,:-1]\n",
        "y_train = train_data.iloc[:,-1]\n",
        "X_test = test_data.iloc[:,:-1]\n",
        "y_test = test_data.iloc[:,-1]"
      ],
      "execution_count": 9,
      "outputs": []
    },
    {
      "cell_type": "code",
      "metadata": {
        "id": "nclfgGJfoQ4i"
      },
      "source": [
        "scaler = StandardScaler()\n",
        "X_train = scaler.fit_transform( X_train )\n",
        "X_test = scaler.transform( X_test )"
      ],
      "execution_count": 10,
      "outputs": []
    },
    {
      "cell_type": "code",
      "metadata": {
        "id": "3u5ofnhqEBTo"
      },
      "source": [
        "class LogisticRegressor:\n",
        "  \n",
        "  def __init__(self, X, y, no_of_iterations = 1000,lr = .001):\n",
        "    self.X = X\n",
        "    self.y = y\n",
        "    self.n, self.m = X.shape # num of training data, num of features\n",
        "    self.lr = lr # learning rate\n",
        "    self.itr = no_of_iterations # num of iterations\n",
        "    # weight and bias\n",
        "    self.b = np.random.rand(1) * 0.1\n",
        "    self.w = np.ones((self.m, 1))\n",
        "    self.w *= np.random.rand(1) * 0.1\n",
        "\n",
        "  # sigmoid function\n",
        "  def sigmoid(self, z):\n",
        "    sig = 1/ (1+np.exp(-z))\n",
        "    return sig\n",
        "\n",
        "  # cost function\n",
        "  def cost_function(self, pred_y): \n",
        "    cost = np.mean((self.y * np.log(pred_y)) + ((1 - self.y) * np.log(1 - pred_y))) \n",
        "    return(cost)\n",
        "  \n",
        "  # traing the model\n",
        "  def fit(self): \n",
        "    self.history = np.zeros(self.itr)\n",
        "    for i in range(self.itr):\n",
        "      pred_y = self.sigmoid(np.dot(self.X, self.w) + self.b)\n",
        "      error = np.squeeze(pred_y) - self.y\n",
        "      gw = np.dot(error, self.X) / self.n\n",
        "      gb = np.sum(error) / self.n\n",
        "      self.w = np.squeeze(self.w) - self.lr * gw\n",
        "      self.b = np.squeeze(self.b) - self.lr *gb\n",
        "      self.history[i] = self.cost_function(np.squeeze(pred_y))\n",
        "  \n",
        "  # predicting values for new data\n",
        "  def predict(self, X): \n",
        "    pred_y = self.sigmoid(np.dot(self.X, self.w) + self.b)\n",
        "    pred_y = pred_y // 0.5\n",
        "    return pred_y\n",
        "\n",
        "  # validating your models prediction using accuracy\n",
        "  def accuracy(self, y, pred_y):\n",
        "    y = np.array(y)\n",
        "    val = 0\n",
        "    for i in range(len(y)):\n",
        "      if (y[i] == pred_y[i]):\n",
        "        val += 1\n",
        "    print(f'accuracy: {val/len(y)}')\n",
        "\n"
      ],
      "execution_count": 11,
      "outputs": []
    },
    {
      "cell_type": "code",
      "metadata": {
        "id": "6amk1RqyzKUL"
      },
      "source": [
        "l = LogisticRegressor(X_train, y_train)"
      ],
      "execution_count": 12,
      "outputs": []
    },
    {
      "cell_type": "code",
      "metadata": {
        "id": "Lo10RznyzPa9"
      },
      "source": [
        "l.fit()"
      ],
      "execution_count": 13,
      "outputs": []
    },
    {
      "cell_type": "code",
      "metadata": {
        "id": "tIVtvosOsEVL"
      },
      "source": [
        "ans = l.predict(X_test)"
      ],
      "execution_count": 14,
      "outputs": []
    },
    {
      "cell_type": "code",
      "metadata": {
        "colab": {
          "base_uri": "https://localhost:8080/"
        },
        "id": "r6D5Ncc_uhKM",
        "outputId": "cebe9363-0ab0-4bee-d48c-54b2b5f14a07"
      },
      "source": [
        "l.accuracy(y_test, ans)"
      ],
      "execution_count": 15,
      "outputs": [
        {
          "output_type": "stream",
          "text": [
            "accuracy: 0.54\n"
          ],
          "name": "stdout"
        }
      ]
    }
  ]
}